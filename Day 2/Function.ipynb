{
 "cells": [
  {
   "cell_type": "markdown",
   "metadata": {},
   "source": [
    "### Function in Python"
   ]
  },
  {
   "cell_type": "code",
   "execution_count": 6,
   "metadata": {},
   "outputs": [
    {
     "name": "stdout",
     "output_type": "stream",
     "text": [
      "10\n",
      "4\n"
     ]
    }
   ],
   "source": [
    "def add_sub(m,n):\n",
    "    c= m+n\n",
    "    d= m-n\n",
    "    return c,d\n",
    "\n",
    "k,l = add_sub(7,3)\n",
    "print(k)\n",
    "print(l)"
   ]
  },
  {
   "cell_type": "markdown",
   "metadata": {},
   "source": [
    "### more function use"
   ]
  },
  {
   "cell_type": "code",
   "execution_count": 9,
   "metadata": {},
   "outputs": [
    {
     "name": "stdout",
     "output_type": "stream",
     "text": [
      "8\n",
      "None\n"
     ]
    }
   ],
   "source": [
    "def update(x):\n",
    "    x = 8\n",
    "    print(x)\n",
    "\n",
    "a=update(10)\n",
    "print(a)"
   ]
  },
  {
   "cell_type": "markdown",
   "metadata": {},
   "source": [
    "### function to check odd or even"
   ]
  },
  {
   "cell_type": "code",
   "execution_count": 15,
   "metadata": {},
   "outputs": [
    {
     "name": "stdout",
     "output_type": "stream",
     "text": [
      "enter a number75\n",
      "Odd! \n"
     ]
    }
   ],
   "source": [
    "def check(a):\n",
    "    a = int(input(\"enter a number\"))\n",
    "    if a%2 == 0:\n",
    "        print(\"Even! \")\n",
    "    else:\n",
    "        print(\"Odd! \")\n",
    "        \n",
    "check(a)"
   ]
  },
  {
   "cell_type": "markdown",
   "metadata": {},
   "source": [
    "### random dice number generator"
   ]
  },
  {
   "cell_type": "code",
   "execution_count": 12,
   "metadata": {},
   "outputs": [
    {
     "name": "stdout",
     "output_type": "stream",
     "text": [
      "Do u want to roll the dice? Type 1 if yes :1\n",
      "4\n"
     ]
    }
   ],
   "source": [
    "#import random\n",
    "import random\n",
    "\n",
    "#define a function\n",
    "def roll():\n",
    "    r = random.randint(1,6)\n",
    "    print(r)\n",
    "\n",
    "a = int(input(\"Do u want to roll the dice? Type 1 if yes :\"))\n",
    "if a == 1:\n",
    "    roll()\n",
    "else:\n",
    "    print(\"bye\")"
   ]
  },
  {
   "cell_type": "code",
   "execution_count": null,
   "metadata": {},
   "outputs": [],
   "source": []
  }
 ],
 "metadata": {
  "kernelspec": {
   "display_name": "Python 3",
   "language": "python",
   "name": "python3"
  },
  "language_info": {
   "codemirror_mode": {
    "name": "ipython",
    "version": 3
   },
   "file_extension": ".py",
   "mimetype": "text/x-python",
   "name": "python",
   "nbconvert_exporter": "python",
   "pygments_lexer": "ipython3",
   "version": "3.8.3"
  }
 },
 "nbformat": 4,
 "nbformat_minor": 4
}
