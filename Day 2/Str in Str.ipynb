{
 "cells": [
  {
   "cell_type": "markdown",
   "metadata": {},
   "source": [
    "### Create a function that finds the word \"bomb\" in the given string. If there is a bomb, return \"Duck!!!\" otherwise return \"There is no bomb, relax.\"."
   ]
  },
  {
   "cell_type": "code",
   "execution_count": 8,
   "metadata": {},
   "outputs": [
    {
     "name": "stdout",
     "output_type": "stream",
     "text": [
      "Enter a string: Hey BOMB\n",
      "Duck!!\n"
     ]
    }
   ],
   "source": [
    "a = input(\"Enter a string: \")\n",
    "if \"bomb\" or \"BOMB\" in a:\n",
    "    print(\"Duck!!\")\n",
    "else:\n",
    "    print(\"There is no bomb, relax!!\")"
   ]
  },
  {
   "cell_type": "code",
   "execution_count": 10,
   "metadata": {},
   "outputs": [
    {
     "name": "stdout",
     "output_type": "stream",
     "text": [
      "Enter a string: raj BOmb\n",
      "Duck!!\n"
     ]
    }
   ],
   "source": [
    "def find_bomb():\n",
    "    a = input(\"Enter a string: \")\n",
    "    if \"bomb\" or \"BOMB\" in a:\n",
    "        print(\"Duck!!\")\n",
    "    else:\n",
    "        print(\"Relax!\")\n",
    "\n",
    "find_bomb()"
   ]
  },
  {
   "cell_type": "code",
   "execution_count": null,
   "metadata": {},
   "outputs": [],
   "source": []
  }
 ],
 "metadata": {
  "kernelspec": {
   "display_name": "Python 3",
   "language": "python",
   "name": "python3"
  },
  "language_info": {
   "codemirror_mode": {
    "name": "ipython",
    "version": 3
   },
   "file_extension": ".py",
   "mimetype": "text/x-python",
   "name": "python",
   "nbconvert_exporter": "python",
   "pygments_lexer": "ipython3",
   "version": "3.8.3"
  }
 },
 "nbformat": 4,
 "nbformat_minor": 4
}
