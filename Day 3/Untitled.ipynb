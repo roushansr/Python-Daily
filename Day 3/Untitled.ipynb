{
 "cells": [
  {
   "cell_type": "markdown",
   "metadata": {},
   "source": [
    "## You need to create two functions to substitute str() and int(). A function called int_to_str() that converts integers into strings and a function called str_to_int() that converts strings into integers."
   ]
  },
  {
   "cell_type": "code",
   "execution_count": 12,
   "metadata": {},
   "outputs": [
    {
     "name": "stdout",
     "output_type": "stream",
     "text": [
      "enter an integer number: 45\n",
      "123\n"
     ]
    }
   ],
   "source": [
    "def int_to_str():\n",
    "    x = int(input(\"enter an integer number: \"))\n",
    "    y = str(x)\n",
    "    return y\n",
    "\n",
    "def str_to_int():\n",
    "    m = '123'\n",
    "    print(int(m))\n",
    "\n",
    "\n",
    "int_to_str()\n",
    "str_to_int()"
   ]
  }
 ],
 "metadata": {
  "kernelspec": {
   "display_name": "Python 3",
   "language": "python",
   "name": "python3"
  },
  "language_info": {
   "codemirror_mode": {
    "name": "ipython",
    "version": 3
   },
   "file_extension": ".py",
   "mimetype": "text/x-python",
   "name": "python",
   "nbconvert_exporter": "python",
   "pygments_lexer": "ipython3",
   "version": "3.8.3"
  }
 },
 "nbformat": 4,
 "nbformat_minor": 4
}
